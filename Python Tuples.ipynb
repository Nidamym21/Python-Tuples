{
 "cells": [
  {
   "cell_type": "markdown",
   "id": "09b4183e-6cfc-4fa9-8f64-d1bcbd3f4e80",
   "metadata": {},
   "source": [
    "## Python Tuples\n",
    "\n",
    "- In Python, a tuple is a collection of ordered, immutable items.\n",
    "- Tuples are similar to lists, but unlike lists, they cannot be modified after their creation (i.e., they are immutable). Tuples are defined using parentheses ().\n",
    "\n",
    "## Key Features of Tuples:\n",
    "\n",
    "- Ordered: Items are stored in a specific order and can be accessed by index.\n",
    "\n",
    "- Allows duplicates: Tuples can store multiple instances of the same value.\n",
    "\n",
    "  For example:"
   ]
  },
  {
   "cell_type": "code",
   "execution_count": 2,
   "id": "e5d26697-2818-497d-93d1-952b00a6d8a1",
   "metadata": {},
   "outputs": [
    {
     "name": "stdout",
     "output_type": "stream",
     "text": [
      "('apple', 'banana', 'cherry')\n"
     ]
    }
   ],
   "source": [
    "my_tuple = (\"apple\", \"banana\", \"cherry\")\n",
    "print(my_tuple)  \n"
   ]
  },
  {
   "cell_type": "markdown",
   "id": "1b68cb7f-8fd0-4dec-b8d6-a41ac823de83",
   "metadata": {},
   "source": [
    "- Accessing of tuples: \n",
    "Tuples support indexing and slicing just like lists."
   ]
  },
  {
   "cell_type": "code",
   "execution_count": 10,
   "id": "c79e033a-5072-49e0-a3d1-dfd0181bd01b",
   "metadata": {},
   "outputs": [
    {
     "name": "stdout",
     "output_type": "stream",
     "text": [
      "pencil\n",
      "('toy', 'pencil', 'tie')\n"
     ]
    }
   ],
   "source": [
    "items = (\"toy\",\"pencil\",\"tie\")\n",
    "print(items[1])\n",
    "print(items[0:5])"
   ]
  },
  {
   "cell_type": "markdown",
   "id": "fe452a12-c057-48a2-9464-bd83027dd53b",
   "metadata": {},
   "source": [
    "- Immutable: Once created, the elements of a tuple cannot be changed, added, or removed."
   ]
  },
  {
   "cell_type": "code",
   "execution_count": 11,
   "id": "3846361e-ae54-4fd7-b293-9b7c02dc71e6",
   "metadata": {},
   "outputs": [
    {
     "ename": "TypeError",
     "evalue": "'tuple' object does not support item assignment",
     "output_type": "error",
     "traceback": [
      "\u001b[1;31m---------------------------------------------------------------------------\u001b[0m",
      "\u001b[1;31mTypeError\u001b[0m                                 Traceback (most recent call last)",
      "Cell \u001b[1;32mIn[11], line 2\u001b[0m\n\u001b[0;32m      1\u001b[0m fruits \u001b[38;5;241m=\u001b[39m (\u001b[38;5;124m\"\u001b[39m\u001b[38;5;124mapple\u001b[39m\u001b[38;5;124m\"\u001b[39m,\u001b[38;5;124m\"\u001b[39m\u001b[38;5;124mbanana\u001b[39m\u001b[38;5;124m\"\u001b[39m,\u001b[38;5;124m\"\u001b[39m\u001b[38;5;124mcherry\u001b[39m\u001b[38;5;124m\"\u001b[39m)\n\u001b[1;32m----> 2\u001b[0m fruits[\u001b[38;5;241m1\u001b[39m] \u001b[38;5;241m=\u001b[39m \u001b[38;5;124m\"\u001b[39m\u001b[38;5;124mpineapple\u001b[39m\u001b[38;5;124m\"\u001b[39m\n\u001b[0;32m      3\u001b[0m \u001b[38;5;28mprint\u001b[39m(fruits)\n",
      "\u001b[1;31mTypeError\u001b[0m: 'tuple' object does not support item assignment"
     ]
    }
   ],
   "source": [
    "fruits = (\"apple\",\"banana\",\"cherry\")\n",
    "fruits[1] = \"pineapple\"\n",
    "print(fruits)"
   ]
  },
  {
   "cell_type": "markdown",
   "id": "1905cedf-67a0-4499-a3be-e441fefdcd38",
   "metadata": {},
   "source": [
    "# Tuple Operations\n",
    "Python tuples support several operations, such as concatenation, repetition, comparison, and more.\n",
    "\n",
    "\n",
    "\n",
    "Here's a list of 2 common tuple operations :"
   ]
  },
  {
   "cell_type": "code",
   "execution_count": null,
   "id": "10d609f9-77da-4539-94a1-d40d3d4fcb71",
   "metadata": {},
   "outputs": [],
   "source": []
  },
  {
   "cell_type": "markdown",
   "id": "eb4bef42-d78b-4187-a4f3-f4f7e75d9c61",
   "metadata": {},
   "source": [
    "# Concatenation (+)\n",
    "\n",
    "You can concatenate two or more tuples to form a new tuple using the + operator.\n",
    "\n",
    "For Example:\n"
   ]
  },
  {
   "cell_type": "code",
   "execution_count": 5,
   "id": "bd4361fe-4b25-41d9-8b65-faa4b937e9a8",
   "metadata": {},
   "outputs": [
    {
     "name": "stdout",
     "output_type": "stream",
     "text": [
      "(1, 2, 3, 4, 5, 6)\n"
     ]
    }
   ],
   "source": [
    "tuple1 = (1, 2, 3)\n",
    "tuple2 = (4, 5, 6)\n",
    "result = tuple1 + tuple2\n",
    "print(result)  \n"
   ]
  },
  {
   "cell_type": "code",
   "execution_count": 8,
   "id": "9f92471b-164e-4572-bf93-042c2d3bb96e",
   "metadata": {},
   "outputs": [],
   "source": [
    "\n",
    "\n",
    "tuple1 = (1, 2, 3)\n",
    "tuple2 = (4, 5, 6)\n",
    "result1 = tuple1 + tuple2\n",
    "\n",
    "tuple3 = (\"apple\", \"banana\")\n",
    "tuple4 = (\"cherry\", \"orange\")\n",
    "result2 = tuple3 + tuple4\n",
    "\n",
    "tuple5 = (10, 20)\n",
    "tuple6 = (2.5, 3.5)\n",
    "result3 = tuple5 + tuple6\n",
    "\n",
    "tuple7 = (True, False)\n",
    "tuple8 = (\"yes\", \"no\")\n",
    "result4 = tuple7 + tuple8\n",
    "\n",
    "tuple9 = ((1, 2), (3, 4))\n",
    "tuple10 = ((5, 6), (7, 8))\n",
    "result5 = tuple9 + tuple10\n"
   ]
  },
  {
   "cell_type": "markdown",
   "id": "ca9a842e-6bfd-4df2-861b-0426227f813e",
   "metadata": {},
   "source": [
    "# Repetition (*)\n",
    "\n",
    "You can repeat the elements of a tuple a specified number of times using the * operator.\n",
    "\n",
    "For Example:"
   ]
  },
  {
   "cell_type": "code",
   "execution_count": 7,
   "id": "745586ae-9f41-4ec6-9032-79b5555c8a0e",
   "metadata": {},
   "outputs": [
    {
     "name": "stdout",
     "output_type": "stream",
     "text": [
      "('a', 'b', 'a', 'b', 'a', 'b')\n"
     ]
    }
   ],
   "source": [
    "tuple1 = (\"a\", \"b\")\n",
    "result = tuple1 * 3\n",
    "print(result)  "
   ]
  },
  {
   "cell_type": "code",
   "execution_count": 9,
   "id": "f3807ed2-513b-4ee0-b43e-a1229e49cb9d",
   "metadata": {},
   "outputs": [],
   "source": [
    "\n",
    "\n",
    "tuple11 = (1, 2, 3)\n",
    "result6 = tuple11 * 2\n",
    "\n",
    "tuple12 = (\"hello\", \"world\")\n",
    "result7 = tuple12 * 3\n",
    "\n",
    "tuple13 = (5,)\n",
    "result8 = tuple13 * 4\n",
    "\n",
    "tuple14 = (\"a\", 1, True)\n",
    "result9 = tuple14 * 2\n",
    "\n",
    "tuple15 = ((1, 2), (3, 4))\n",
    "result10 = tuple15 * 2\n"
   ]
  },
  {
   "cell_type": "markdown",
   "id": "c4ebd0c3-8c54-43ad-9fb7-e01b53aa80ea",
   "metadata": {},
   "source": [
    "# Tuple Methods\n"
   ]
  },
  {
   "cell_type": "markdown",
   "id": "1bd612ef-5c5a-4468-aaa8-576fd4db3bee",
   "metadata": {},
   "source": [
    "# count()\n",
    "Returns the number of times a specified value appears in the tuple."
   ]
  },
  {
   "cell_type": "code",
   "execution_count": 18,
   "id": "0d8eb667-0dee-4e89-8f1d-a28b05949c25",
   "metadata": {},
   "outputs": [
    {
     "name": "stdout",
     "output_type": "stream",
     "text": [
      "3\n",
      "2\n",
      "2\n",
      "3\n",
      "3\n"
     ]
    }
   ],
   "source": [
    "tuple1 = (1, 2, 3, 1, 1, 4)\n",
    "result1 = tuple1.count(1)\n",
    "print(result1)  \n",
    "\n",
    "tuple2 = (\"apple\", \"banana\", \"apple\", \"orange\")\n",
    "result2 = tuple2.count(\"apple\")\n",
    "print(result2)  \n",
    "\n",
    "tuple3 = (1.1, 2.2, 1.1, 3.3)\n",
    "result3 = tuple3.count(1.1)\n",
    "print(result3) \n",
    "\n",
    "tuple4 = (True, False, True, True)\n",
    "result4 = tuple4.count(True)\n",
    "print(result4)  \n",
    "\n",
    "tuple5 = (\"a\", \"b\", \"a\", \"c\", \"a\")\n",
    "result5 = tuple5.count(\"a\")\n",
    "print(result5)  \n"
   ]
  },
  {
   "cell_type": "markdown",
   "id": "e6a771cb-48ad-41c0-a245-2ed17c6ee923",
   "metadata": {},
   "source": [
    "# Index()\n",
    "Returns the index of the first occurrence of a specified value in the tuple.\n"
   ]
  },
  {
   "cell_type": "code",
   "execution_count": null,
   "id": "3df5108d-8749-4c42-861f-e1181eaca279",
   "metadata": {},
   "outputs": [],
   "source": [
    "tuple6 = (1, 2, 3, 4, 2, 5)\n",
    "result6 = tuple6.index(2)\n",
    "print(result6) \n",
    "\n",
    "tuple7 = (\"apple\", \"banana\", \"cherry\", \"banana\")\n",
    "result7 = tuple7.index(\"banana\")\n",
    "print(result7) \n",
    "\n",
    "tuple8 = (1.1, 2.2, 3.3, 1.1, 4.4)\n",
    "result8 = tuple8.index(1.1)\n",
    "print(result8)  # Outputs the index of the first occurrence of 1.1 in tuple8\n",
    "\n",
    "tuple9 = (True, False, True, True)\n",
    "result9 = tuple9.index(False)\n",
    "print(result9)  # Outputs the index of the first occurrence of False in tuple9\n",
    "\n",
    "tuple10 = (\"a\", \"b\", \"c\", \"a\", \"d\")\n",
    "result10 = tuple10.index(\"a\")\n",
    "print(result10)  # Outputs the index of the first occurrence of \"a\" in tuple10\n"
   ]
  }
 ],
 "metadata": {
  "kernelspec": {
   "display_name": "Python 3 (ipykernel)",
   "language": "python",
   "name": "python3"
  },
  "language_info": {
   "codemirror_mode": {
    "name": "ipython",
    "version": 3
   },
   "file_extension": ".py",
   "mimetype": "text/x-python",
   "name": "python",
   "nbconvert_exporter": "python",
   "pygments_lexer": "ipython3",
   "version": "3.12.4"
  }
 },
 "nbformat": 4,
 "nbformat_minor": 5
}
